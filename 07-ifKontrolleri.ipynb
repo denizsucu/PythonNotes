{
 "cells": [
  {
   "cell_type": "code",
   "execution_count": 4,
   "metadata": {},
   "outputs": [
    {
     "name": "stdout",
     "output_type": "stream",
     "text": [
      "deniz sucu\n",
      "koşul sağlandı\n",
      "if bloğunun dışına çıktık\n"
     ]
    }
   ],
   "source": [
    "if 3 > 1:\n",
    "    print(\"deniz sucu\") #bu şeklilde oluşturuyoruz, tabler çok önemli, parantez kullanmıyoruz\n",
    "    print(\"koşul sağlandı\")\n",
    "print(\"if bloğunun dışına çıktık\") #burası if'e ait değil"
   ]
  },
  {
   "cell_type": "code",
   "execution_count": 6,
   "metadata": {},
   "outputs": [
    {
     "name": "stdout",
     "output_type": "stream",
     "text": [
      "if bloğunun dışına çıktık\n"
     ]
    }
   ],
   "source": [
    "if 3 < 1:\n",
    "    print(\"deniz sucu\") \n",
    "    print(\"koşul sağlandı\")\n",
    "print(\"if bloğunun dışına çıktık\") #burası if'e ait değil, diğerleri koşul sağlanmadığı için yazılmadı "
   ]
  },
  {
   "cell_type": "code",
   "execution_count": 11,
   "metadata": {},
   "outputs": [],
   "source": [
    "x=3\n",
    "y=3"
   ]
  },
  {
   "cell_type": "code",
   "execution_count": 12,
   "metadata": {},
   "outputs": [
    {
     "name": "stdout",
     "output_type": "stream",
     "text": [
      "x ve y birbirine eşitmiş\n"
     ]
    }
   ],
   "source": [
    "if x > y:\n",
    "    print(\"x, y'den büyükmüş\")\n",
    "elif y > x:\n",
    "    print(\"y, x'ten büyükmüş\") #else if\n",
    "else:\n",
    "    print(\"x ve y birbirine eşitmiş\") #else =>üstteki koşulların hiçbiri sağlanmıyorsa"
   ]
  },
  {
   "cell_type": "code",
   "execution_count": 14,
   "metadata": {},
   "outputs": [
    {
     "name": "stdout",
     "output_type": "stream",
     "text": [
      "Super kahraman seçiniz: Batman\n",
      "Tebrikler Batman'i sectiniz.\n"
     ]
    }
   ],
   "source": [
    "benimKahramanim = input(\"Super kahraman seçiniz: \")\n",
    "if benimKahramanim == \"Batman\":\n",
    "    print(\"Tebrikler Batman'i sectiniz.\")\n",
    "elif benimKahramanim == \"Superman\":\n",
    "    print(\"Keske Batman'i secseydiniz.\")\n",
    "elif benimKahramanim == \"Ironman\":\n",
    "    print(\"Ironman kim?\")\n",
    "else:\n",
    "    print(\"Bu kim gerçekten bilmiyoruz\")\n"
   ]
  },
  {
   "cell_type": "code",
   "execution_count": 18,
   "metadata": {},
   "outputs": [],
   "source": [
    "a=15\n",
    "b=10\n",
    "c=20"
   ]
  },
  {
   "cell_type": "code",
   "execution_count": 19,
   "metadata": {},
   "outputs": [
    {
     "name": "stdout",
     "output_type": "stream",
     "text": [
      "c, a ve b'den büyük\n"
     ]
    }
   ],
   "source": [
    "if a == b and c > b:\n",
    "    print(\"a ile b birbirine eşit VE c, b'den büyük\")\n",
    "elif c>a and c>b:\n",
    "    print(\"c, a ve b'den büyük\")"
   ]
  },
  {
   "cell_type": "code",
   "execution_count": 20,
   "metadata": {},
   "outputs": [],
   "source": [
    "m =10\n",
    "k=5\n",
    "l=3"
   ]
  },
  {
   "cell_type": "code",
   "execution_count": 21,
   "metadata": {},
   "outputs": [
    {
     "name": "stdout",
     "output_type": "stream",
     "text": [
      "bu statement dogru\n"
     ]
    }
   ],
   "source": [
    "if m>k or l>k:\n",
    "    print(\"bu statement dogru\")"
   ]
  },
  {
   "cell_type": "code",
   "execution_count": 25,
   "metadata": {},
   "outputs": [
    {
     "name": "stdout",
     "output_type": "stream",
     "text": [
      "oyun karakteriniz yaşamıyor\n"
     ]
    }
   ],
   "source": [
    "karakterCanli = False\n",
    "if karakterCanli: #direkt bu şekilde verebiliriz boolean tipindeki değişkenleri\n",
    "    print(\"oyun karakteriniz yaşıyor\")\n",
    "else:\n",
    "    print(\"oyun karakteriniz yaşamıyor\")"
   ]
  },
  {
   "cell_type": "code",
   "execution_count": 27,
   "metadata": {},
   "outputs": [
    {
     "name": "stdout",
     "output_type": "stream",
     "text": [
      "karakter canlı değil\n"
     ]
    }
   ],
   "source": [
    "if not karakterCanli: #if not şeklinde de kullanabiliriz\n",
    "    print(\"karakter canlı değil\")"
   ]
  },
  {
   "cell_type": "code",
   "execution_count": 28,
   "metadata": {},
   "outputs": [],
   "source": [
    "benimString = \"Deniz Sucu\""
   ]
  },
  {
   "cell_type": "code",
   "execution_count": 29,
   "metadata": {},
   "outputs": [
    {
     "name": "stdout",
     "output_type": "stream",
     "text": [
      "eşit değilmiş\n"
     ]
    }
   ],
   "source": [
    "if benimString == \"deniz sucu\": #büyük küçük harfe duyarlı\n",
    "    print(\"eşitmiş\")\n",
    "else:\n",
    "    print(\"eşit değilmiş\")"
   ]
  },
  {
   "cell_type": "code",
   "execution_count": 31,
   "metadata": {},
   "outputs": [
    {
     "name": "stdout",
     "output_type": "stream",
     "text": [
      "varmış\n"
     ]
    }
   ],
   "source": [
    "if \"Sucu\" in benimString: #in=>içinde olup olmadığını bulmak istediğimiz şeye bakıyor\n",
    "    print(\"varmış\")\n",
    "else:\n",
    "    print(\"yokmuş\") #yine büyük küçük harf önemli"
   ]
  },
  {
   "cell_type": "code",
   "execution_count": 32,
   "metadata": {},
   "outputs": [],
   "source": [
    "benimListem = [10,20,30,40,50]"
   ]
  },
  {
   "cell_type": "code",
   "execution_count": 33,
   "metadata": {},
   "outputs": [
    {
     "name": "stdout",
     "output_type": "stream",
     "text": [
      "10 var\n"
     ]
    }
   ],
   "source": [
    "if 10 in benimListem: # in=> bunu listelerde de kullanabiliyoruz\n",
    "    print(\"10 var\")\n",
    "else:\n",
    "    print(\"10 yok\")"
   ]
  },
  {
   "cell_type": "code",
   "execution_count": 35,
   "metadata": {},
   "outputs": [],
   "source": [
    "benimSozluk = {\"muz\":100, \"karpuz\":150, \"elma\": 200}"
   ]
  },
  {
   "cell_type": "code",
   "execution_count": 36,
   "metadata": {},
   "outputs": [
    {
     "name": "stdout",
     "output_type": "stream",
     "text": [
      "varmış\n"
     ]
    }
   ],
   "source": [
    "if \"muz\" in benimSozluk.keys():\n",
    "    print(\"varmış\")"
   ]
  },
  {
   "cell_type": "code",
   "execution_count": 37,
   "metadata": {},
   "outputs": [
    {
     "name": "stdout",
     "output_type": "stream",
     "text": [
      "varmış\n"
     ]
    }
   ],
   "source": [
    "if 100 in benimSozluk.values():\n",
    "    print(\"varmış\")"
   ]
  },
  {
   "cell_type": "code",
   "execution_count": null,
   "metadata": {},
   "outputs": [],
   "source": []
  }
 ],
 "metadata": {
  "kernelspec": {
   "display_name": "Python 3",
   "language": "python",
   "name": "python3"
  },
  "language_info": {
   "codemirror_mode": {
    "name": "ipython",
    "version": 3
   },
   "file_extension": ".py",
   "mimetype": "text/x-python",
   "name": "python",
   "nbconvert_exporter": "python",
   "pygments_lexer": "ipython3",
   "version": "3.8.3"
  }
 },
 "nbformat": 4,
 "nbformat_minor": 4
}
