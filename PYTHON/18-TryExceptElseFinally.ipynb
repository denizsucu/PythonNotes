{
 "cells": [
  {
   "cell_type": "markdown",
   "metadata": {},
   "source": [
    "## try & except & else & finally"
   ]
  },
  {
   "cell_type": "code",
   "execution_count": 2,
   "metadata": {},
   "outputs": [
    {
     "name": "stdout",
     "output_type": "stream",
     "text": [
      "Lütfen sayıları giriniz!45\n",
      "Teşekkürler!\n",
      "finally çağrıldı\n"
     ]
    }
   ],
   "source": [
    "while True:\n",
    "    try:\n",
    "        myInt = int(input(\"Lütfen sayıları giriniz!\"))\n",
    "        \n",
    "    except: #hata olduğunda çalışıyor\n",
    "        print(\"Lütfen gerçek sayı giriniz!\")\n",
    "        continue\n",
    "        \n",
    "    else: #doğru olan durumda try'ın altında yazmak istemediğimiz şeyleri de alabiliriz\n",
    "        print(\"Teşekkürler!\")\n",
    "        break\n",
    "        \n",
    "    finally: ## ne olursa olsun çağrılıyor\n",
    "        print(\"finally çağrıldı\")"
   ]
  },
  {
   "cell_type": "code",
   "execution_count": null,
   "metadata": {},
   "outputs": [],
   "source": []
  }
 ],
 "metadata": {
  "kernelspec": {
   "display_name": "Python 3",
   "language": "python",
   "name": "python3"
  },
  "language_info": {
   "codemirror_mode": {
    "name": "ipython",
    "version": 3
   },
   "file_extension": ".py",
   "mimetype": "text/x-python",
   "name": "python",
   "nbconvert_exporter": "python",
   "pygments_lexer": "ipython3",
   "version": "3.8.3"
  }
 },
 "nbformat": 4,
 "nbformat_minor": 4
}
