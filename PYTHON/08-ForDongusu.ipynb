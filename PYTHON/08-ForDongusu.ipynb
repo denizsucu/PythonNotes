{
 "cells": [
  {
   "cell_type": "code",
   "execution_count": 1,
   "metadata": {},
   "outputs": [],
   "source": [
    "myList = [10,20,30,40,50]"
   ]
  },
  {
   "cell_type": "code",
   "execution_count": 3,
   "metadata": {},
   "outputs": [
    {
     "name": "stdout",
     "output_type": "stream",
     "text": [
      "döngü başladı\n",
      "10\n",
      "20\n",
      "30\n",
      "40\n",
      "50\n",
      "döngü bitti\n"
     ]
    }
   ],
   "source": [
    "print(\"döngü başladı\") #döngüye başlamadan hemen önce\n",
    "for numara in myList: #döngü aslında burdan başlayıp\n",
    "    print(numara)     #burda bitiyor, burayı tamamlamadan diğer kodlar çalıştırılmıyor\n",
    "print(\"döngü bitti\")"
   ]
  },
  {
   "cell_type": "code",
   "execution_count": 5,
   "metadata": {},
   "outputs": [
    {
     "name": "stdout",
     "output_type": "stream",
     "text": [
      "16.666666666666668\n",
      "33.333333333333336\n",
      "50.0\n",
      "66.66666666666667\n",
      "83.33333333333333\n"
     ]
    }
   ],
   "source": [
    "for num in myList: #tablere dikkat, parantez yok ona göre çalışıyor\n",
    "    yeniNumara = num * 5 / 3\n",
    "    print(yeniNumara)"
   ]
  },
  {
   "cell_type": "code",
   "execution_count": 6,
   "metadata": {},
   "outputs": [],
   "source": [
    "yeniListe = [0,1,2,3,4,5,6,7,8,9]"
   ]
  },
  {
   "cell_type": "code",
   "execution_count": 7,
   "metadata": {},
   "outputs": [
    {
     "name": "stdout",
     "output_type": "stream",
     "text": [
      "0\n",
      "2\n",
      "4\n",
      "6\n",
      "8\n"
     ]
    }
   ],
   "source": [
    "for rakam in yeniListe:\n",
    "    if rakam % 2 == 0:\n",
    "        print(rakam)\n",
    "    "
   ]
  },
  {
   "cell_type": "code",
   "execution_count": 8,
   "metadata": {},
   "outputs": [
    {
     "name": "stdout",
     "output_type": "stream",
     "text": [
      "D\n",
      "e\n",
      "n\n",
      "i\n",
      "z\n",
      " \n",
      "S\n",
      "u\n",
      "c\n",
      "u\n"
     ]
    }
   ],
   "source": [
    "myStr = \"Deniz Sucu\"\n",
    "for harf in myStr: #string'ler de listeler gibi davranabiliyor\n",
    "    print(harf)"
   ]
  },
  {
   "cell_type": "code",
   "execution_count": 9,
   "metadata": {},
   "outputs": [
    {
     "name": "stdout",
     "output_type": "stream",
     "text": [
      "1\n",
      "2\n",
      "3\n",
      "4\n",
      "5\n"
     ]
    }
   ],
   "source": [
    "myTuple = (1,2,3,4,5)\n",
    "for x in myTuple: #tuple'larda da aynı şekilde\n",
    "    print(x)"
   ]
  },
  {
   "cell_type": "code",
   "execution_count": 11,
   "metadata": {},
   "outputs": [],
   "source": [
    "koordinatListesi = [(10.2,30.5),(7.5,60.4),(42.6,70.3)] #koordinatListesi =>list tipinde"
   ]
  },
  {
   "cell_type": "code",
   "execution_count": 12,
   "metadata": {},
   "outputs": [
    {
     "data": {
      "text/plain": [
       "tuple"
      ]
     },
     "execution_count": 12,
     "metadata": {},
     "output_type": "execute_result"
    }
   ],
   "source": [
    "type(koordinatListesi[0]) #elemanlar tuple tipinde"
   ]
  },
  {
   "cell_type": "code",
   "execution_count": 14,
   "metadata": {},
   "outputs": [
    {
     "name": "stdout",
     "output_type": "stream",
     "text": [
      "(10.2, 30.5)\n",
      "(7.5, 60.4)\n",
      "(42.6, 70.3)\n"
     ]
    }
   ],
   "source": [
    "for eleman in koordinatListesi: #elemanları yazdırabiliyoruz bu şekilde\n",
    "    print(eleman)"
   ]
  },
  {
   "cell_type": "code",
   "execution_count": 16,
   "metadata": {},
   "outputs": [
    {
     "name": "stdout",
     "output_type": "stream",
     "text": [
      "10.2\n",
      "7.5\n",
      "42.6\n"
     ]
    }
   ],
   "source": [
    "for (x,y) in koordinatListesi: #bu şekilde (x,y) gibi ikili eşitleyebiliyoruz #bunu 3'lü vs de yapabiliriz\n",
    "    print(x)"
   ]
  },
  {
   "cell_type": "code",
   "execution_count": 19,
   "metadata": {},
   "outputs": [
    {
     "name": "stdout",
     "output_type": "stream",
     "text": [
      "muz\n",
      "karpuz\n",
      "elma\n"
     ]
    }
   ],
   "source": [
    "myDict = {\"muz\":300, \"karpuz\":200, \"elma\":100}\n",
    "for (anahtar, deger) in myDict.items(): #items=>içindeki itemleri getiriyor\n",
    "    print(anahtar)"
   ]
  },
  {
   "cell_type": "code",
   "execution_count": null,
   "metadata": {},
   "outputs": [],
   "source": []
  }
 ],
 "metadata": {
  "kernelspec": {
   "display_name": "Python 3",
   "language": "python",
   "name": "python3"
  },
  "language_info": {
   "codemirror_mode": {
    "name": "ipython",
    "version": 3
   },
   "file_extension": ".py",
   "mimetype": "text/x-python",
   "name": "python",
   "nbconvert_exporter": "python",
   "pygments_lexer": "ipython3",
   "version": "3.8.3"
  }
 },
 "nbformat": 4,
 "nbformat_minor": 4
}
