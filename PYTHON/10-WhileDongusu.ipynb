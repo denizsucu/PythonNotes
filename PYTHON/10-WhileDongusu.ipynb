{
 "cells": [
  {
   "cell_type": "code",
   "execution_count": 1,
   "metadata": {},
   "outputs": [
    {
     "name": "stdout",
     "output_type": "stream",
     "text": [
      "0\n",
      "1\n",
      "2\n",
      "3\n",
      "4\n",
      "5\n",
      "6\n",
      "7\n",
      "8\n",
      "9\n"
     ]
    }
   ],
   "source": [
    "x = 0\n",
    "while x < 10:\n",
    "    print(x)\n",
    "    x = x+1"
   ]
  },
  {
   "cell_type": "code",
   "execution_count": 2,
   "metadata": {},
   "outputs": [
    {
     "name": "stdout",
     "output_type": "stream",
     "text": [
      "3 hala list'in içinde\n",
      "3 hala list'in içinde\n",
      "3 hala list'in içinde\n"
     ]
    }
   ],
   "source": [
    "myList = [1,2,3,4,5]\n",
    "while 3 in myList:\n",
    "    print(\"3 hala list'in içinde\")\n",
    "    myList.pop()"
   ]
  },
  {
   "cell_type": "code",
   "execution_count": 3,
   "metadata": {},
   "outputs": [
    {
     "name": "stdout",
     "output_type": "stream",
     "text": [
      "0\n",
      "1\n",
      "2\n",
      "3\n"
     ]
    }
   ],
   "source": [
    "num = 0\n",
    "while num < 5:\n",
    "    if num == 4:\n",
    "        break\n",
    "    print(num)\n",
    "    num = num+1"
   ]
  },
  {
   "cell_type": "code",
   "execution_count": 6,
   "metadata": {},
   "outputs": [
    {
     "name": "stdout",
     "output_type": "stream",
     "text": [
      "newVar'ın güncel degeri : 0\n",
      "newVar'ın güncel degeri : 1\n",
      "newVar'ın güncel degeri : 2\n",
      "newVar'ın güncel degeri : 3\n",
      "newVar'ın güncel degeri : 4\n",
      "newVar'ın güncel degeri : 5\n",
      "newVar'ın güncel degeri : 6\n",
      "newVar'ın güncel degeri : 7\n",
      "newVar'ın güncel degeri : 8\n",
      "newVar'ın güncel degeri : 9\n"
     ]
    }
   ],
   "source": [
    "newVar = 0\n",
    "while newVar < 10:\n",
    "   # print(\"newVar'ın güncel degeri :\" + str(newVar)) #bu şekilde string'e çevirip yazdırabiliriz ama\n",
    "    print(f\"newVar'ın güncel degeri : {newVar}\") #süslü parantez içini kod olarak alıyor # f=>formatlıyor\n",
    "    newVar= newVar + 1"
   ]
  },
  {
   "cell_type": "code",
   "execution_count": null,
   "metadata": {},
   "outputs": [],
   "source": []
  }
 ],
 "metadata": {
  "kernelspec": {
   "display_name": "Python 3",
   "language": "python",
   "name": "python3"
  },
  "language_info": {
   "codemirror_mode": {
    "name": "ipython",
    "version": 3
   },
   "file_extension": ".py",
   "mimetype": "text/x-python",
   "name": "python",
   "nbconvert_exporter": "python",
   "pygments_lexer": "ipython3",
   "version": "3.8.3"
  }
 },
 "nbformat": 4,
 "nbformat_minor": 4
}
