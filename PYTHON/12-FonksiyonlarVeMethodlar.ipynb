{
 "cells": [
  {
   "cell_type": "code",
   "execution_count": 2,
   "metadata": {},
   "outputs": [
    {
     "data": {
      "text/plain": [
       "'DENIZ SUCU'"
      ]
     },
     "execution_count": 2,
     "metadata": {},
     "output_type": "execute_result"
    }
   ],
   "source": [
    "benimAdim = \"Deniz Sucu\"\n",
    "benimAdimBuyukHarfli = benimAdim.upper() #bu bir fonk. ama python'un kendisinde tanımlı\n",
    "benimAdimBuyukHarfli"
   ]
  },
  {
   "cell_type": "markdown",
   "metadata": {},
   "source": [
    "#kendi fonksiyonumuzu tanımlamak istersek.."
   ]
  },
  {
   "cell_type": "code",
   "execution_count": 3,
   "metadata": {},
   "outputs": [],
   "source": [
    "def firstFunc(): #def=>define, bu şekilde başlıyoruz fonk. tanımına\n",
    "    print(\"ilk fonsiyonum\") #henüz bir şey yazdırmıycak çağırmadık çünkü"
   ]
  },
  {
   "cell_type": "code",
   "execution_count": 4,
   "metadata": {},
   "outputs": [
    {
     "name": "stdout",
     "output_type": "stream",
     "text": [
      "ilk fonsiyonum\n"
     ]
    }
   ],
   "source": [
    "firstFunc() #function'u kullandık, artık sonucunu verecek"
   ]
  },
  {
   "cell_type": "markdown",
   "metadata": {},
   "source": [
    "#### #Fonksiyonlar kodlarımızı düzenli yazmaya yarıyor"
   ]
  },
  {
   "cell_type": "markdown",
   "metadata": {},
   "source": [
    "#### #Bir defa yazdığımız bir fonsiyonu, istediğimiz yerde ve istediğimiz kadar çağırabiliriz. Bir fonksiyonu başka fonksiyon altında çağırabiliriz, sadece adını yazarak çalıştırabiliriz. Böylece çok daha verimli kod yazmamızı sağlıyorlar."
   ]
  },
  {
   "cell_type": "markdown",
   "metadata": {},
   "source": [
    "#### #İçerlerine girdi alıp, çıktı verebiliyorlar, en önemli özelliklerinden biri bu fonksiyonların."
   ]
  },
  {
   "cell_type": "markdown",
   "metadata": {},
   "source": [
    "## input & return"
   ]
  },
  {
   "cell_type": "code",
   "execution_count": 6,
   "metadata": {},
   "outputs": [],
   "source": [
    "def merhabaDunya(yazdirilacakIsim): #bu şekilde argüman verebiliyoruz\n",
    "    print(\"merhaba\")\n",
    "    print(yazdirilacakIsim)"
   ]
  },
  {
   "cell_type": "code",
   "execution_count": 8,
   "metadata": {},
   "outputs": [
    {
     "name": "stdout",
     "output_type": "stream",
     "text": [
      "merhaba\n",
      "deniz\n"
     ]
    }
   ],
   "source": [
    "merhabaDunya(\"deniz\") #içine bir şey vermeyince hata veriyor, bu safhada şimdilik içine bir şey vermemiz lazım."
   ]
  },
  {
   "cell_type": "code",
   "execution_count": 10,
   "metadata": {},
   "outputs": [],
   "source": [
    "def merhaba(isim = \"deniz\"): #default değer verdik, isim verilirse onu yazacak verilmezse verdiğimiz default değeri yazacak\n",
    "    print(\"merhaba\")\n",
    "    print(isim)"
   ]
  },
  {
   "cell_type": "code",
   "execution_count": 13,
   "metadata": {},
   "outputs": [
    {
     "name": "stdout",
     "output_type": "stream",
     "text": [
      "merhaba\n",
      "deniz\n"
     ]
    }
   ],
   "source": [
    "merhaba() #bir şey vermedik default değeri yazdırdı"
   ]
  },
  {
   "cell_type": "code",
   "execution_count": 14,
   "metadata": {},
   "outputs": [
    {
     "name": "stdout",
     "output_type": "stream",
     "text": [
      "merhaba\n",
      "ayse\n"
     ]
    }
   ],
   "source": [
    "merhaba(\"ayse\") #değer verince verdiğimiz değeri yazdırdı"
   ]
  },
  {
   "cell_type": "code",
   "execution_count": 15,
   "metadata": {},
   "outputs": [],
   "source": [
    "def toplama(num1,num2):\n",
    "    toplam = num1 + num2\n",
    "    print(toplam)"
   ]
  },
  {
   "cell_type": "code",
   "execution_count": 17,
   "metadata": {},
   "outputs": [
    {
     "name": "stdout",
     "output_type": "stream",
     "text": [
      "30\n"
     ]
    }
   ],
   "source": [
    "toplama(10,20) #toplama() diye çağırınca hata alırız, iki argümanlı bir fonk. çünkü"
   ]
  },
  {
   "cell_type": "code",
   "execution_count": 18,
   "metadata": {},
   "outputs": [
    {
     "name": "stdout",
     "output_type": "stream",
     "text": [
      "60\n"
     ]
    }
   ],
   "source": [
    "def superToplama(num1,num2,num3):\n",
    "    print(num1+num2+num3)\n",
    "superToplama(10,20,30)"
   ]
  },
  {
   "cell_type": "code",
   "execution_count": 19,
   "metadata": {},
   "outputs": [],
   "source": [
    "def returnToplama(num1,num2):\n",
    "    return num1 + num2"
   ]
  },
  {
   "cell_type": "code",
   "execution_count": 20,
   "metadata": {},
   "outputs": [
    {
     "data": {
      "text/plain": [
       "30"
      ]
     },
     "execution_count": 20,
     "metadata": {},
     "output_type": "execute_result"
    }
   ],
   "source": [
    "returnToplama(10,20)"
   ]
  },
  {
   "cell_type": "code",
   "execution_count": 26,
   "metadata": {},
   "outputs": [
    {
     "name": "stdout",
     "output_type": "stream",
     "text": [
      "60\n"
     ]
    },
    {
     "data": {
      "text/plain": [
       "NoneType"
      ]
     },
     "execution_count": 26,
     "metadata": {},
     "output_type": "execute_result"
    }
   ],
   "source": [
    "newVar = superToplama(10,20,30) #return ile yazılmadı\n",
    "type(newVar) #bunun bir tipi yok"
   ]
  },
  {
   "cell_type": "code",
   "execution_count": 29,
   "metadata": {},
   "outputs": [
    {
     "data": {
      "text/plain": [
       "int"
      ]
     },
     "execution_count": 29,
     "metadata": {},
     "output_type": "execute_result"
    }
   ],
   "source": [
    "secondVar = returnToplama(10,20) #bu fonk. da return vardı ve sonucu bir değişkene atadığımızda tipsiz olmuyor\n",
    "type(secondVar) #int tipinde bir değişken olduğunu görüyoruz"
   ]
  },
  {
   "cell_type": "markdown",
   "metadata": {},
   "source": [
    "## args & kwargs"
   ]
  },
  {
   "cell_type": "markdown",
   "metadata": {},
   "source": [
    "#argüman sayısını sınırlı tutmak istemedik mesela bunun için şu şekilde işlem yapabilriz"
   ]
  },
  {
   "cell_type": "code",
   "execution_count": 30,
   "metadata": {},
   "outputs": [],
   "source": [
    "def newSum(*args): # burada * önemli, bütün argları alabilmemizi sağlıyo\n",
    "    return sum(args) #hazır toplama fonksiyonunu kullandık, args yazınca da bütün argsları topla demek oluyor"
   ]
  },
  {
   "cell_type": "code",
   "execution_count": 31,
   "metadata": {},
   "outputs": [
    {
     "data": {
      "text/plain": [
       "210"
      ]
     },
     "execution_count": 31,
     "metadata": {},
     "output_type": "execute_result"
    }
   ],
   "source": [
    "newSum(10,20,30,40,50,60)"
   ]
  },
  {
   "cell_type": "code",
   "execution_count": 32,
   "metadata": {},
   "outputs": [],
   "source": [
    "def myFunc(*args):\n",
    "    return args"
   ]
  },
  {
   "cell_type": "code",
   "execution_count": 34,
   "metadata": {},
   "outputs": [
    {
     "data": {
      "text/plain": [
       "tuple"
      ]
     },
     "execution_count": 34,
     "metadata": {},
     "output_type": "execute_result"
    }
   ],
   "source": [
    "type(myFunc(10,20,30)) #return demeseydik tipi yoktu ama artık tuple tipinde"
   ]
  },
  {
   "cell_type": "code",
   "execution_count": 35,
   "metadata": {},
   "outputs": [],
   "source": [
    "def exampleFunc(**kwargs): #key gerektiren işlemlerde kullanabiliriz,\n",
    "    # ** yazdıktan sonra kwargs yazmaya gerek yok ne yazsak olur ama tercihimiz kwargs\n",
    "    return kwargs"
   ]
  },
  {
   "cell_type": "code",
   "execution_count": 37,
   "metadata": {},
   "outputs": [
    {
     "data": {
      "text/plain": [
       "{'muz': 100, 'elma': 200, 'ananas': 3000}"
      ]
     },
     "execution_count": 37,
     "metadata": {},
     "output_type": "execute_result"
    }
   ],
   "source": [
    "exampleFunc(muz = 100, elma = 200, ananas = 3000) #bu şekilde dict tipinde oluşturdu bizim için"
   ]
  },
  {
   "cell_type": "code",
   "execution_count": 38,
   "metadata": {},
   "outputs": [],
   "source": [
    "def keyWordControl(**kwargs):\n",
    "    if \"deniz\" in kwargs:\n",
    "        print(\"deniz var\")\n",
    "    else:\n",
    "        print(\"deniz yok\")"
   ]
  },
  {
   "cell_type": "code",
   "execution_count": 39,
   "metadata": {},
   "outputs": [
    {
     "name": "stdout",
     "output_type": "stream",
     "text": [
      "deniz var\n"
     ]
    }
   ],
   "source": [
    "keyWordControl(deniz = 10, ayse = 20, mehmet = 30)"
   ]
  },
  {
   "cell_type": "code",
   "execution_count": null,
   "metadata": {},
   "outputs": [],
   "source": []
  }
 ],
 "metadata": {
  "kernelspec": {
   "display_name": "Python 3",
   "language": "python",
   "name": "python3"
  },
  "language_info": {
   "codemirror_mode": {
    "name": "ipython",
    "version": 3
   },
   "file_extension": ".py",
   "mimetype": "text/x-python",
   "name": "python",
   "nbconvert_exporter": "python",
   "pygments_lexer": "ipython3",
   "version": "3.8.3"
  }
 },
 "nbformat": 4,
 "nbformat_minor": 4
}
